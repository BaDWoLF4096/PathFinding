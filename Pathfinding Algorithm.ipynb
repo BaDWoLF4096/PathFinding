{
 "cells": [
  {
   "cell_type": "code",
   "execution_count": null,
   "metadata": {
    "scrolled": true
   },
   "outputs": [
    {
     "name": "stdout",
     "output_type": "stream",
     "text": [
      "pygame 1.9.6\n",
      "Hello from the pygame community. https://www.pygame.org/contribute.html\n",
      "0 10 10 1 0\n",
      "261\n",
      "0 10 10 0 1\n",
      "261\n",
      "0 14 14 1 1\n",
      "254\n",
      "14 28 14 2 0\n",
      "254\n",
      "14 24 10 2 1\n",
      "247\n",
      "14 28 14 0 2\n",
      "254\n",
      "14 24 10 1 2\n",
      "247\n",
      "14 28 14 2 2\n",
      "240\n",
      "28 42 14 1 3\n",
      "240\n",
      "28 38 10 2 3\n",
      "233\n",
      "38 66 28 1 4\n",
      "234\n",
      "38 60 22 2 4\n",
      "226\n",
      "60 102 42 1 5\n",
      "228\n",
      "60 96 36 2 5\n",
      "220\n",
      "60 91 31 3 5\n",
      "212\n",
      "91 113 22 4 5\n",
      "205\n",
      "91 127 36 3 6\n",
      "206\n",
      "91 122 31 4 6\n",
      "198\n",
      "122 136 14 5 5\n",
      "197\n",
      "122 144 22 5 6\n",
      "191\n",
      "122 164 42 3 7\n",
      "200\n",
      "122 158 36 4 7\n",
      "192\n",
      "122 153 31 5 7\n",
      "184\n",
      "153 195 42 4 8\n",
      "186\n",
      "153 189 36 5 8\n",
      "178\n",
      "153 184 31 6 8\n",
      "170\n",
      "184 198 14 7 7\n",
      "169\n",
      "184 206 22 7 8\n",
      "162\n",
      "184 220 36 6 9\n",
      "164\n",
      "184 215 31 7 9\n",
      "156\n",
      "215 237 22 8 9\n",
      "148\n",
      "215 251 36 7 10\n",
      "150\n",
      "237 257 20 9 10\n",
      "134\n",
      "257 257 0 10 9\n",
      "134\n",
      "257 285 28 8 11\n",
      "136\n",
      "257 279 22 9 11\n",
      "128\n",
      "279 321 42 8 12\n",
      "130\n",
      "279 315 36 9 12\n",
      "122\n",
      "315 365 50 9 13\n",
      "116\n",
      "315 359 44 10 13\n",
      "108\n",
      "359 387 28 11 12\n",
      "106\n",
      "359 395 36 11 13\n",
      "100\n",
      "359 409 50 10 14\n",
      "102\n",
      "395 417 22 12 13\n",
      "92\n",
      "395 426 31 12 14\n",
      "86\n",
      "426 440 14 13 13\n",
      "84\n",
      "426 448 22 13 14\n",
      "78\n",
      "426 468 42 11 15\n",
      "89\n",
      "426 462 36 12 15\n",
      "80\n",
      "426 457 31 13 15\n",
      "72\n",
      "457 471 14 14 14\n",
      "70\n",
      "457 479 22 14 15\n",
      "64\n",
      "457 499 42 12 16\n",
      "76\n",
      "457 493 36 13 16\n",
      "67\n",
      "457 488 31 14 16\n",
      "58\n",
      "488 502 14 15 15\n",
      "56\n",
      "488 510 22 15 16\n",
      "50\n",
      "488 530 42 13 17\n",
      "63\n",
      "488 524 36 14 17\n",
      "53\n",
      "488 519 31 15 17\n",
      "44\n",
      "519 533 14 16 16\n",
      "42\n",
      "519 541 22 16 17\n",
      "36\n",
      "519 561 42 14 18\n",
      "50\n",
      "519 555 36 15 18\n",
      "41\n",
      "519 550 31 16 18\n",
      "31\n",
      "550 564 14 17 17\n",
      "28\n",
      "550 572 22 17 18\n",
      "22\n",
      "550 592 42 15 19\n",
      "40\n",
      "550 586 36 16 19\n",
      "30\n",
      "550 581 31 17 19\n",
      "20\n",
      "581 595 14 18 18\n",
      "14\n",
      "581 603 22 18 19\n",
      "10\n",
      "603 603 0 19 18\n",
      "10\n",
      "603 613 10 19 19\n",
      "0\n",
      "(19, 19)\n",
      "(19, 18)\n",
      "603 623 20 18 17\n",
      "22\n",
      "603 625 22 19 17\n",
      "20\n",
      "(19, 17)\n",
      "(18, 16)\n",
      "(17, 15)\n",
      "(16, 14)\n",
      "(15, 13)\n",
      "(14, 12)\n",
      "(13, 11)\n",
      "(13, 10)\n",
      "(12, 9)\n",
      "(11, 9)\n",
      "(10, 9)\n",
      "(9, 8)\n",
      "(9, 7)\n",
      "(8, 6)\n",
      "(7, 5)\n",
      "(6, 4)\n",
      "(5, 3)\n",
      "(4, 2)\n",
      "(3, 2)\n",
      "(2, 2)\n",
      "(1, 1)\n"
     ]
    }
   ],
   "source": [
    "import pygame\n",
    "import time\n",
    "import math\n",
    "from queue import PriorityQueue\n",
    "pygame.font.init()\n",
    "\n",
    "win = pygame.display.set_mode((540, 600))\n",
    "pygame.display.set_caption(\"Draw\")\n",
    "\n",
    "board = [[' ' for i in range(20)] for j in range(20)]\n",
    "board[0][0] = 'O'\n",
    "board[19][19] = 'X'\n",
    "\n",
    "\n",
    "class Grid:\n",
    "    \n",
    "    board = [[' ' for i in range(20)] for j in range(20)]\n",
    "    \n",
    "    def __init__(self, rows, cols, width, height):\n",
    "        self.rows = rows\n",
    "        self.cols = cols \n",
    "        self.cubes = [[Cube(self.board[i][j], i, j, width, height) for j in range(cols)] for i in range(rows)]\n",
    "        self.width = width\n",
    "        self.height = height\n",
    "        self.model = None\n",
    "        self.selected = None\n",
    "        self.start = (0, 0)\n",
    "        \n",
    "        \n",
    "    def update_model(self):\n",
    "        self.model = [[self.cubes[i][j].value for j in range(self.cols)] for i in range(self.rows)]\n",
    "        \n",
    "    def draw(self, val):\n",
    "        gap = self.width / 20\n",
    "        \n",
    "        thick = 1\n",
    "        \n",
    "        for i in range(self.rows + 1):\n",
    "            pygame.draw.line(win, (0,0,0), (0, i*gap), (self.width, i*gap), thick)\n",
    "            pygame.draw.line(win, (0,0,0), (i*gap, 0), (i*gap, self.height), thick)\n",
    "            \n",
    "            \n",
    "        for i in range(self.rows):\n",
    "            for j in range(self.cols):\n",
    "                self.cubes[i][j].draw(win)\n",
    "                \n",
    "                \n",
    "    def click(self, pos):\n",
    "        \n",
    "        if pos[0] < self.width and pos[1] < self.height:\n",
    "            gap = self.height / 20\n",
    "            x = pos[0]//gap\n",
    "            y = pos[1]//gap\n",
    "            return (int(y), int(x))\n",
    "        else:\n",
    "            return None\n",
    "        \n",
    "    def select(self, row, col):\n",
    "        self.cubes[row][col].selected = True\n",
    "        self.selected = (row, col)\n",
    "        \n",
    "    def valid(self, pos, q, c):\n",
    "        for i in [-1, 0, 1]:\n",
    "            for j in [-1, 0, 1]:\n",
    "                if (i,j) != (0,0):\n",
    "                    if (0 <= pos[0] + i <20) and (0 <= pos[1] + j<20) and (board[pos[0] + i][pos[1] + j] != '#'):\n",
    "                        if (self.cubes[pos[0] + i][pos[1] + j].h, (pos[0] + i, pos[1] + j)) not in q.queue and ((pos[0] + i, pos[1] + j) not in c):\n",
    "                            self.cubes[pos[0] + i][pos[1] + j].upback(self.cubes[pos[0]][pos[1]])\n",
    "                            self.cubes[pos[0] + i][pos[1] + j].update(self.cubes[pos[0]][pos[1]])\n",
    "                            q.put((self.cubes[pos[0] + i][pos[1] + j].h, (pos[0] + i, pos[1] + j)))\n",
    "                            self.cubes[pos[0] + i][pos[1] + j].test = True\n",
    "                            \n",
    "                            \n",
    "\n",
    "    def solve(self, start, q):\n",
    "        x = 50\n",
    "        if q.empty:\n",
    "            self.valid(start, q)\n",
    "    \n",
    "        while q.not_empty:\n",
    "            self.valid(q.get(), q)\n",
    "            \n",
    "            if x < 0:\n",
    "                break\n",
    "            x -= 1\n",
    "        \n",
    "    \n",
    "    \n",
    "class Cube:\n",
    "    rows = 20\n",
    "    cols = 20\n",
    "    \n",
    "    def __init__(self, board, row, col, width, height):\n",
    "        self.row = row\n",
    "        self.col = col\n",
    "        self.board = board\n",
    "        self.width = width\n",
    "        self.height = height\n",
    "        self.selected = False\n",
    "        self.g = 0\n",
    "        self.h = None\n",
    "        self.f = None\n",
    "        self.old = None\n",
    "        self.next = None\n",
    "        self.test = False\n",
    "        self.red = False\n",
    "        \n",
    "    def draw(self, win):\n",
    "        fnt = pygame.font.SysFont(\"comicsans\", 40)\n",
    "        \n",
    "        gap = self.width / 20\n",
    "        x = self.col * gap\n",
    "        y = self.row * gap\n",
    "        \n",
    "        if self.col == 0 and self.row == 0:\n",
    "            text = fnt.render('O', 1, (0,0,0))\n",
    "            win.blit(text, (x+(gap/2 - text.get_width()/2), y + (gap/2 - text.get_width()/2)))\n",
    "            \n",
    "        elif self.col == 19 and self.row == 19:\n",
    "            text = fnt.render('X', 1, (0,0,0))\n",
    "            win.blit(text, (x+(gap/2 - text.get_width()/2), y + (gap/2 - text.get_width()/2)))\n",
    "            \n",
    "        elif self.selected:\n",
    "            pygame.draw.rect(win,(0, 0, 0), (x, y, gap, gap))\n",
    "            board[self.row][self.col] = '#'\n",
    "            \n",
    "        if self.test:\n",
    "            pygame.draw.rect(win,(0, 255, 130), (x, y, gap, gap))\n",
    "            \n",
    "        if self.red:\n",
    "            pygame.draw.rect(win,(255, 0, 0), (x, y, gap, gap))\n",
    "        \n",
    "            \n",
    "    def upback(self, obj):\n",
    "        self.old = obj.pos()\n",
    "    \n",
    "    \n",
    "    def pos(self):\n",
    "        return (self.row, self.col)\n",
    "    \n",
    "    def update(self, obj):\n",
    "        self.g = obj.g + int(math.sqrt((self.col-self.old[0])**2 + (self.row-self.old[1])**2)*10)\n",
    "        print(obj.g, self.g, int(math.sqrt((self.col-self.old[0])**2 + (self.row-self.old[1])**2)*10), self.col, self.row)\n",
    "        self.h = int(math.sqrt((19-self.col)**2 + (19-self.row)**2)*10)\n",
    "        print(self.h)\n",
    "        self.f = int(self.g + self.h)\n",
    "                \n",
    "                \n",
    "def redraw_window(win, board, time, strikes):\n",
    "    win.fill((255,255,255))\n",
    "    fnt = pygame.font.SysFont(\"comicsans\", 40)\n",
    "    board.draw(win)\n",
    "    \n",
    "def finished(obj, pos):\n",
    "    obj[pos[0]][pos[1]].red = True\n",
    "    print(pos)\n",
    "                \n",
    "def main():\n",
    "    \n",
    "    board = Grid(20, 20, 540, 540)\n",
    "    key = None\n",
    "    run = True\n",
    "    start = time.time()\n",
    "    strikes = 0\n",
    "    z = False\n",
    "    start_alg = False\n",
    "    q = PriorityQueue()\n",
    "    c = []\n",
    "    p = (19,19)\n",
    "    cur = (0,0)\n",
    "    x = True\n",
    "    while run:\n",
    "        if start_alg:\n",
    "            if q.not_empty and x:\n",
    "                while cur in c:\n",
    "                    tmp = q.get()\n",
    "                    cur = tmp[1]\n",
    "                board.valid(cur, q, c)\n",
    "                c.append(cur)\n",
    "                #print(\"old \" ,board.cubes[cur[0]][cur[1]].g)\n",
    "                #print(cur)\n",
    "\n",
    "                if cur == (18, 18):\n",
    "                    x = False\n",
    "\n",
    "            #print(q.queue)\n",
    "        if board.cubes[p[0]][p[1]].old != None:\n",
    "            #print(q.queue)\n",
    "            #print(c)\n",
    "            finished(board.cubes, p)\n",
    "            p = board.cubes[p[0]][p[1]].old\n",
    "                \n",
    "        \n",
    "        play_time = round(time.time() - start)\n",
    "        \n",
    "        for event in pygame.event.get():\n",
    "            if event.type == pygame.QUIT:\n",
    "                run = False\n",
    "            if event.type == pygame.KEYDOWN:\n",
    "                if event.key == pygame.K_RETURN:\n",
    "                    board.valid(cur, q, c)\n",
    "                    c.append(cur)\n",
    "                    start_alg = True\n",
    "         \n",
    "        if event.type == pygame.MOUSEBUTTONDOWN:\n",
    "            if z == True:\n",
    "                z = False\n",
    "            else:\n",
    "                z = True\n",
    "            \n",
    "        if z:\n",
    "            pos = pygame.mouse.get_pos()\n",
    "            clicked = board.click(pos)\n",
    "            board.select(clicked[0], clicked[1])\n",
    "        \n",
    "        \n",
    "        redraw_window(win, board, play_time, strikes)\n",
    "        pygame.display.update()\n",
    "        \n",
    "main()\n",
    "pygame.quit()"
   ]
  },
  {
   "cell_type": "code",
   "execution_count": null,
   "metadata": {},
   "outputs": [],
   "source": []
  },
  {
   "cell_type": "code",
   "execution_count": 5,
   "metadata": {},
   "outputs": [],
   "source": [
    "board = Grid(20, 20, 540, 540)"
   ]
  },
  {
   "cell_type": "code",
   "execution_count": 8,
   "metadata": {},
   "outputs": [
    {
     "name": "stdout",
     "output_type": "stream",
     "text": [
      "O, , , , , , , , , , , , , , , , , , , ,\n",
      " , , , , , , , , , , , , , , , , , , , ,\n",
      " , , , , , , , , , ,#, , , , , , , , , ,\n",
      " , , , , , , , , , , , , , , , , , , , ,\n",
      " , , , , , , , , , , , , , , , , , , , ,\n",
      " , , , , , , , ,#, , , , , , , , , , , ,\n",
      " , , , , , ,#,#, , , , , , , , , , , , ,\n",
      " , , , , , ,#, , , , , , , , , , , , , ,\n",
      " , , , , ,#, , , , , , , , , , , , , , ,\n",
      " , , , , ,#, , , , , , , , , , , , , , ,\n",
      " , , , , ,#, , , , , , , , , , , , , , ,\n",
      " , , , , ,#, , , , , , , , , , , , , , ,\n",
      " , , , , ,#, , , , , , , , , , , , , , ,\n",
      " , , , , , ,#,#,#, , , , , , , , , , , ,\n",
      " , , , , , , , ,#, , , , , , , , , , , ,\n",
      " , , , , , , , , ,#, , , , , , , , , , ,\n",
      " , , , , , , , , ,#, , , , , , , , , , ,\n",
      " , , , , , , , , ,#, , , , , , , , , , ,\n",
      " , , , , , , , , , , , , , , , , , , , ,\n",
      " , , , , , , , , , , , , , , , , , , ,X,\n"
     ]
    }
   ],
   "source": [
    "for i in range(20):\n",
    "    for j in range(20):\n",
    "        print(board[i][j],  end = \",\")\n",
    "        \n",
    "    print(\"\")"
   ]
  },
  {
   "cell_type": "code",
   "execution_count": 3,
   "metadata": {
    "scrolled": true
   },
   "outputs": [
    {
     "data": {
      "text/plain": [
       "['O',\n",
       " ' ',\n",
       " ' ',\n",
       " ' ',\n",
       " ' ',\n",
       " ' ',\n",
       " ' ',\n",
       " ' ',\n",
       " ' ',\n",
       " ' ',\n",
       " ' ',\n",
       " ' ',\n",
       " ' ',\n",
       " ' ',\n",
       " ' ',\n",
       " ' ',\n",
       " ' ',\n",
       " ' ',\n",
       " ' ',\n",
       " ' ']"
      ]
     },
     "execution_count": 3,
     "metadata": {},
     "output_type": "execute_result"
    }
   ],
   "source": [
    "board[0]"
   ]
  },
  {
   "cell_type": "code",
   "execution_count": 13,
   "metadata": {},
   "outputs": [],
   "source": [
    "from queue import PriorityQueue\n",
    "\n",
    "q = PriorityQueue()\n",
    "\n"
   ]
  },
  {
   "cell_type": "code",
   "execution_count": null,
   "metadata": {},
   "outputs": [],
   "source": [
    "import queue\n",
    "\n",
    "def printMaze(maze, path=\"\"):\n",
    "    for x, pos in enumerate(maze[0]):\n",
    "        if pos == \"O\":\n",
    "            start = x\n",
    "\n",
    "    i = start\n",
    "    j = 0\n",
    "    pos = set()\n",
    "    for move in path:\n",
    "        if move == \"L\":\n",
    "            i -= 1\n",
    "\n",
    "        elif move == \"R\":\n",
    "            i += 1\n",
    "\n",
    "        elif move == \"U\":\n",
    "            j -= 1\n",
    "\n",
    "        elif move == \"D\":\n",
    "            j += 1\n",
    "        pos.add((j, i))\n",
    "    \n",
    "    for j, row in enumerate(maze):\n",
    "        for i, col in enumerate(row):\n",
    "            if (j, i) in pos:\n",
    "                print(\"+ \", end=\"\")\n",
    "            else:\n",
    "                print(col + \" \", end=\"\")\n",
    "        print()\n",
    "        \n",
    "\n",
    "\n",
    "def valid(maze, moves):\n",
    "    for x, pos in enumerate(maze[0]):\n",
    "        if pos == \"O\":\n",
    "            start = x\n",
    "\n",
    "    i = start\n",
    "    j = 0\n",
    "    for move in moves:\n",
    "        if move == \"L\":\n",
    "            i -= 1\n",
    "\n",
    "        elif move == \"R\":\n",
    "            i += 1\n",
    "\n",
    "        elif move == \"U\":\n",
    "            j -= 1\n",
    "\n",
    "        elif move == \"D\":\n",
    "            j += 1\n",
    "\n",
    "        if not(0 <= i < len(maze[0]) and 0 <= j < len(maze)):\n",
    "            return False\n",
    "        elif (maze[j][i] == \"#\"):\n",
    "            return False\n",
    "\n",
    "    return True\n",
    "\n",
    "\n",
    "def findEnd(maze, moves):\n",
    "    for x, pos in enumerate(maze[0]):\n",
    "        if pos == \"O\":\n",
    "            start = x\n",
    "\n",
    "    i = start\n",
    "    j = 0\n",
    "    for move in moves:\n",
    "        if move == \"L\":\n",
    "            i -= 1\n",
    "\n",
    "        elif move == \"R\":\n",
    "            i += 1\n",
    "\n",
    "        elif move == \"U\":\n",
    "            j -= 1\n",
    "\n",
    "        elif move == \"D\":\n",
    "            j += 1\n",
    "\n",
    "    if maze[j][i] == \"X\":\n",
    "        print(\"Found: \" + moves)\n",
    "        printMaze(maze, moves)\n",
    "        return True\n",
    "\n",
    "    return False\n",
    "\n",
    "\n",
    "# MAIN ALGORITHM\n",
    "\n",
    "nums = queue.Queue()\n",
    "nums.put(\"\")\n",
    "add = \"\"\n",
    "\n",
    "\n",
    "while not findEnd(board, add): \n",
    "    add = nums.get()\n",
    "    #print(add)\n",
    "    for j in [\"L\", \"R\", \"U\", \"D\"]:\n",
    "        put = add + j\n",
    "        if valid(board, put):\n",
    "            nums.put(put)"
   ]
  },
  {
   "cell_type": "code",
   "execution_count": 12,
   "metadata": {},
   "outputs": [],
   "source": [
    "maze = []\n",
    "maze.append([\"#\",\"#\", \"#\", \"#\", \"#\", \"O\", \"#\", \"#\", \"#\"])\n",
    "maze.append([\"#\",\" \", \" \", \" \", \" \", \" \", \" \", \" \", \"#\"])\n",
    "maze.append([\"#\",\" \", \"#\", \"#\", \" \", \"#\", \"#\", \" \", \"#\"])\n",
    "maze.append([\"#\",\" \", \"#\", \" \", \" \", \" \", \"#\", \" \", \"#\"])\n",
    "maze.append([\"#\",\" \", \"#\", \" \", \"#\", \" \", \"#\", \" \", \"#\"])\n",
    "maze.append([\"#\",\" \", \"#\", \" \", \"#\", \" \", \"#\", \" \", \"#\"])\n",
    "maze.append([\"#\",\" \", \"#\", \" \", \"#\", \" \", \"#\", \"#\", \"#\"])\n",
    "maze.append([\"#\",\" \", \" \", \" \", \" \", \" \", \" \", \" \", \"#\"])\n",
    "maze.append([\"#\",\"#\", \"#\", \"#\", \"#\", \"#\", \"#\", \"X\", \"#\"])"
   ]
  },
  {
   "cell_type": "code",
   "execution_count": 13,
   "metadata": {},
   "outputs": [
    {
     "data": {
      "text/plain": [
       "[['#', '#', '#', '#', '#', 'O', '#', '#', '#'],\n",
       " ['#', ' ', ' ', ' ', ' ', ' ', ' ', ' ', '#'],\n",
       " ['#', ' ', '#', '#', ' ', '#', '#', ' ', '#'],\n",
       " ['#', ' ', '#', ' ', ' ', ' ', '#', ' ', '#'],\n",
       " ['#', ' ', '#', ' ', '#', ' ', '#', ' ', '#'],\n",
       " ['#', ' ', '#', ' ', '#', ' ', '#', ' ', '#'],\n",
       " ['#', ' ', '#', ' ', '#', ' ', '#', '#', '#'],\n",
       " ['#', ' ', ' ', ' ', ' ', ' ', ' ', ' ', '#'],\n",
       " ['#', '#', '#', '#', '#', '#', '#', 'X', '#']]"
      ]
     },
     "execution_count": 13,
     "metadata": {},
     "output_type": "execute_result"
    }
   ],
   "source": [
    "maze"
   ]
  },
  {
   "cell_type": "code",
   "execution_count": null,
   "metadata": {},
   "outputs": [],
   "source": []
  },
  {
   "cell_type": "code",
   "execution_count": null,
   "metadata": {},
   "outputs": [],
   "source": [
    "class Node:\n",
    "\n",
    "    # Initialize the class\n",
    "    def __init__(self, position:(), parent:()):\n",
    "        self.position = position\n",
    "        self.parent = parent\n",
    "        self.g = 0 # Distance to start node\n",
    "        self.h = 0 # Distance to goal node\n",
    "        self.f = 0 # Total cost\n",
    "\n",
    "    # Compare nodes\n",
    "    def __eq__(self, other):\n",
    "        return self.position == other.position\n",
    "\n",
    "    # Sort nodes\n",
    "    def __lt__(self, other):\n",
    "         return self.f < other.f\n",
    "\n",
    "    # Print node\n",
    "    def __repr__(self):\n",
    "        return ('({0},{1})'.format(self.position, self.f))\n",
    "    \n",
    "    "
   ]
  },
  {
   "cell_type": "code",
   "execution_count": 3,
   "metadata": {},
   "outputs": [
    {
     "ename": "FileNotFoundError",
     "evalue": "[Errno 2] No such file or directory: 'maze.in'",
     "output_type": "error",
     "traceback": [
      "\u001b[1;31m---------------------------------------------------------------------------\u001b[0m",
      "\u001b[1;31mFileNotFoundError\u001b[0m                         Traceback (most recent call last)",
      "\u001b[1;32m<ipython-input-3-c378ef591a26>\u001b[0m in \u001b[0;36m<module>\u001b[1;34m\u001b[0m\n\u001b[0;32m    174\u001b[0m \u001b[1;33m\u001b[0m\u001b[0m\n\u001b[0;32m    175\u001b[0m \u001b[1;31m# Tell python to run main method\u001b[0m\u001b[1;33m\u001b[0m\u001b[1;33m\u001b[0m\u001b[1;33m\u001b[0m\u001b[0m\n\u001b[1;32m--> 176\u001b[1;33m \u001b[1;32mif\u001b[0m \u001b[0m__name__\u001b[0m \u001b[1;33m==\u001b[0m \u001b[1;34m\"__main__\"\u001b[0m\u001b[1;33m:\u001b[0m \u001b[0mmain\u001b[0m\u001b[1;33m(\u001b[0m\u001b[1;33m)\u001b[0m\u001b[1;33m\u001b[0m\u001b[1;33m\u001b[0m\u001b[0m\n\u001b[0m",
      "\u001b[1;32m<ipython-input-3-c378ef591a26>\u001b[0m in \u001b[0;36mmain\u001b[1;34m()\u001b[0m\n\u001b[0;32m    137\u001b[0m \u001b[1;33m\u001b[0m\u001b[0m\n\u001b[0;32m    138\u001b[0m     \u001b[1;31m# Open a file\u001b[0m\u001b[1;33m\u001b[0m\u001b[1;33m\u001b[0m\u001b[1;33m\u001b[0m\u001b[0m\n\u001b[1;32m--> 139\u001b[1;33m     \u001b[0mfp\u001b[0m \u001b[1;33m=\u001b[0m \u001b[0mopen\u001b[0m\u001b[1;33m(\u001b[0m\u001b[1;34m'maze.in'\u001b[0m\u001b[1;33m,\u001b[0m \u001b[1;34m'r'\u001b[0m\u001b[1;33m)\u001b[0m\u001b[1;33m\u001b[0m\u001b[1;33m\u001b[0m\u001b[0m\n\u001b[0m\u001b[0;32m    140\u001b[0m \u001b[1;33m\u001b[0m\u001b[0m\n\u001b[0;32m    141\u001b[0m     \u001b[1;31m# Loop until there is no more lines\u001b[0m\u001b[1;33m\u001b[0m\u001b[1;33m\u001b[0m\u001b[1;33m\u001b[0m\u001b[0m\n",
      "\u001b[1;31mFileNotFoundError\u001b[0m: [Errno 2] No such file or directory: 'maze.in'"
     ]
    }
   ],
   "source": []
  },
  {
   "cell_type": "code",
   "execution_count": 4,
   "metadata": {},
   "outputs": [
    {
     "data": {
      "text/plain": [
       "44"
      ]
     },
     "execution_count": 4,
     "metadata": {},
     "output_type": "execute_result"
    }
   ],
   "source": [
    "int(math.sqrt((2)**2 + (4-0)**2)*10)"
   ]
  },
  {
   "cell_type": "code",
   "execution_count": 1,
   "metadata": {},
   "outputs": [],
   "source": [
    "import math"
   ]
  },
  {
   "cell_type": "code",
   "execution_count": 3,
   "metadata": {},
   "outputs": [],
   "source": [
    "def valid():\n",
    "    for i in [-1, 0, 1]:\n",
    "        for j in [-1, 0, 1]:\n",
    "            if (0 < i <20) and (0 < j <20):\n",
    "                print(\"2\")"
   ]
  },
  {
   "cell_type": "code",
   "execution_count": 4,
   "metadata": {},
   "outputs": [
    {
     "name": "stdout",
     "output_type": "stream",
     "text": [
      "2\n"
     ]
    }
   ],
   "source": [
    "valid()"
   ]
  },
  {
   "cell_type": "code",
   "execution_count": 1,
   "metadata": {},
   "outputs": [],
   "source": [
    "from queue import PriorityQueue\n",
    "\n",
    "q = PriorityQueue()\n"
   ]
  },
  {
   "cell_type": "code",
   "execution_count": 3,
   "metadata": {},
   "outputs": [],
   "source": [
    "q.put((2,'ead'))"
   ]
  },
  {
   "cell_type": "code",
   "execution_count": null,
   "metadata": {},
   "outputs": [],
   "source": [
    "x = q.get()"
   ]
  },
  {
   "cell_type": "code",
   "execution_count": null,
   "metadata": {},
   "outputs": [
    {
     "name": "stdout",
     "output_type": "stream",
     "text": [
      "(2, 'ead')\n",
      "(2, 'ead')\n"
     ]
    }
   ],
   "source": [
    "while q.not_empty:\n",
    "    print(q.get())"
   ]
  },
  {
   "cell_type": "code",
   "execution_count": 16,
   "metadata": {},
   "outputs": [
    {
     "data": {
      "text/plain": [
       "[(2, 'ead')]"
      ]
     },
     "execution_count": 16,
     "metadata": {},
     "output_type": "execute_result"
    }
   ],
   "source": [
    "q.queue"
   ]
  },
  {
   "cell_type": "code",
   "execution_count": null,
   "metadata": {},
   "outputs": [],
   "source": [
    "x"
   ]
  },
  {
   "cell_type": "code",
   "execution_count": null,
   "metadata": {},
   "outputs": [],
   "source": [
    "q."
   ]
  },
  {
   "cell_type": "code",
   "execution_count": 5,
   "metadata": {},
   "outputs": [],
   "source": [
    "def finished(obj, pos):\n",
    "    obj[pos[0]][pos[1]].red = True\n",
    "    if obj[pos[0]][pos[1]].old == (0,0):\n",
    "        return\n",
    "    else:\n",
    "        finised(obj, obj[pos[0]][pos[1]].old)"
   ]
  },
  {
   "cell_type": "code",
   "execution_count": 22,
   "metadata": {},
   "outputs": [
    {
     "data": {
      "text/plain": [
       "10"
      ]
     },
     "execution_count": 22,
     "metadata": {},
     "output_type": "execute_result"
    }
   ],
   "source": [
    "min(max(20,10), 30, 20, 10)"
   ]
  },
  {
   "cell_type": "code",
   "execution_count": 30,
   "metadata": {},
   "outputs": [
    {
     "data": {
      "text/plain": [
       "14.142135623730951"
      ]
     },
     "execution_count": 30,
     "metadata": {},
     "output_type": "execute_result"
    }
   ],
   "source": [
    "(math.sqrt(1**2 + 1**2))*10"
   ]
  },
  {
   "cell_type": "code",
   "execution_count": null,
   "metadata": {},
   "outputs": [],
   "source": []
  }
 ],
 "metadata": {
  "kernelspec": {
   "display_name": "Python 3",
   "language": "python",
   "name": "python3"
  },
  "language_info": {
   "codemirror_mode": {
    "name": "ipython",
    "version": 3
   },
   "file_extension": ".py",
   "mimetype": "text/x-python",
   "name": "python",
   "nbconvert_exporter": "python",
   "pygments_lexer": "ipython3",
   "version": "3.6.10"
  }
 },
 "nbformat": 4,
 "nbformat_minor": 4
}
